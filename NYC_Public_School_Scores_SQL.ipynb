{
 "cells": [
  {
   "cell_type": "markdown",
   "id": "e976935f-e2e7-4629-93a2-35f9f76212cd",
   "metadata": {},
   "source": [
    "## **1. Explore the data**"
   ]
  },
  {
   "cell_type": "code",
   "execution_count": 9,
   "id": "067dfad3-9b7e-4c55-a01e-9448d8ee0948",
   "metadata": {},
   "outputs": [
    {
     "name": "stdout",
     "output_type": "stream",
     "text": [
      "The sql extension is already loaded. To reload it, use:\n",
      "  %reload_ext sql\n"
     ]
    },
    {
     "data": {
      "text/plain": [
       "'Connected: @schools.db'"
      ]
     },
     "execution_count": 9,
     "metadata": {},
     "output_type": "execute_result"
    }
   ],
   "source": [
    "# Prepare my environment\n",
    "import pandas as pd\n",
    "import sqlite3\n",
    "df = pd.read_csv('/Users/viridianachow/Desktop/Projects/Exploring NYC Public School Test Result Scores/schools.csv')\n",
    "cnn = sqlite3.connect('schools.db')\n",
    "df.to_sql('schools', cnn)\n",
    "%load_ext sql\n",
    "%sql sqlite:///schools.db"
   ]
  },
  {
   "cell_type": "code",
   "execution_count": 11,
   "id": "08f931b5-168b-4e3b-b2ea-c1f0dd4ce065",
   "metadata": {},
   "outputs": [
    {
     "name": "stdout",
     "output_type": "stream",
     "text": [
      " * sqlite:///schools.db\n",
      "   sqlite:///schoools.db\n",
      "Done.\n"
     ]
    },
    {
     "data": {
      "text/html": [
       "<table>\n",
       "    <thead>\n",
       "        <tr>\n",
       "            <th>index</th>\n",
       "            <th>school_name</th>\n",
       "            <th>borough</th>\n",
       "            <th>building_code</th>\n",
       "            <th>average_math</th>\n",
       "            <th>average_reading</th>\n",
       "            <th>average_writing</th>\n",
       "            <th>percent_tested</th>\n",
       "        </tr>\n",
       "    </thead>\n",
       "    <tbody>\n",
       "        <tr>\n",
       "            <td>0</td>\n",
       "            <td>New Explorations into Science, Technology and Math High School</td>\n",
       "            <td>Manhattan</td>\n",
       "            <td>M022</td>\n",
       "            <td>657</td>\n",
       "            <td>601</td>\n",
       "            <td>601</td>\n",
       "            <td>None</td>\n",
       "        </tr>\n",
       "        <tr>\n",
       "            <td>1</td>\n",
       "            <td>Essex Street Academy</td>\n",
       "            <td>Manhattan</td>\n",
       "            <td>M445</td>\n",
       "            <td>395</td>\n",
       "            <td>411</td>\n",
       "            <td>387</td>\n",
       "            <td>78.9</td>\n",
       "        </tr>\n",
       "        <tr>\n",
       "            <td>2</td>\n",
       "            <td>Lower Manhattan Arts Academy</td>\n",
       "            <td>Manhattan</td>\n",
       "            <td>M445</td>\n",
       "            <td>418</td>\n",
       "            <td>428</td>\n",
       "            <td>415</td>\n",
       "            <td>65.1</td>\n",
       "        </tr>\n",
       "        <tr>\n",
       "            <td>3</td>\n",
       "            <td>High School for Dual Language and Asian Studies</td>\n",
       "            <td>Manhattan</td>\n",
       "            <td>M445</td>\n",
       "            <td>613</td>\n",
       "            <td>453</td>\n",
       "            <td>463</td>\n",
       "            <td>95.9</td>\n",
       "        </tr>\n",
       "        <tr>\n",
       "            <td>4</td>\n",
       "            <td>Henry Street School for International Studies</td>\n",
       "            <td>Manhattan</td>\n",
       "            <td>M056</td>\n",
       "            <td>410</td>\n",
       "            <td>406</td>\n",
       "            <td>381</td>\n",
       "            <td>59.7</td>\n",
       "        </tr>\n",
       "        <tr>\n",
       "            <td>5</td>\n",
       "            <td>Bard High School Early College</td>\n",
       "            <td>Manhattan</td>\n",
       "            <td>M097</td>\n",
       "            <td>634</td>\n",
       "            <td>641</td>\n",
       "            <td>639</td>\n",
       "            <td>70.8</td>\n",
       "        </tr>\n",
       "        <tr>\n",
       "            <td>6</td>\n",
       "            <td>Urban Assembly Academy of Government and Law</td>\n",
       "            <td>Manhattan</td>\n",
       "            <td>M445</td>\n",
       "            <td>389</td>\n",
       "            <td>395</td>\n",
       "            <td>381</td>\n",
       "            <td>80.8</td>\n",
       "        </tr>\n",
       "        <tr>\n",
       "            <td>7</td>\n",
       "            <td>Marta Valle High School</td>\n",
       "            <td>Manhattan</td>\n",
       "            <td>M025</td>\n",
       "            <td>438</td>\n",
       "            <td>413</td>\n",
       "            <td>394</td>\n",
       "            <td>35.6</td>\n",
       "        </tr>\n",
       "        <tr>\n",
       "            <td>8</td>\n",
       "            <td>University Neighborhood High School</td>\n",
       "            <td>Manhattan</td>\n",
       "            <td>M446</td>\n",
       "            <td>437</td>\n",
       "            <td>355</td>\n",
       "            <td>352</td>\n",
       "            <td>69.9</td>\n",
       "        </tr>\n",
       "        <tr>\n",
       "            <td>9</td>\n",
       "            <td>New Design High School</td>\n",
       "            <td>Manhattan</td>\n",
       "            <td>M445</td>\n",
       "            <td>381</td>\n",
       "            <td>396</td>\n",
       "            <td>372</td>\n",
       "            <td>73.7</td>\n",
       "        </tr>\n",
       "    </tbody>\n",
       "</table>"
      ],
      "text/plain": [
       "[(0, 'New Explorations into Science, Technology and Math High School', 'Manhattan', 'M022', 657, 601, 601, None),\n",
       " (1, 'Essex Street Academy', 'Manhattan', 'M445', 395, 411, 387, 78.9),\n",
       " (2, 'Lower Manhattan Arts Academy', 'Manhattan', 'M445', 418, 428, 415, 65.1),\n",
       " (3, 'High School for Dual Language and Asian Studies', 'Manhattan', 'M445', 613, 453, 463, 95.9),\n",
       " (4, 'Henry Street School for International Studies', 'Manhattan', 'M056', 410, 406, 381, 59.7),\n",
       " (5, 'Bard High School Early College', 'Manhattan', 'M097', 634, 641, 639, 70.8),\n",
       " (6, 'Urban Assembly Academy of Government and Law', 'Manhattan', 'M445', 389, 395, 381, 80.8),\n",
       " (7, 'Marta Valle High School', 'Manhattan', 'M025', 438, 413, 394, 35.6),\n",
       " (8, 'University Neighborhood High School', 'Manhattan', 'M446', 437, 355, 352, 69.9),\n",
       " (9, 'New Design High School', 'Manhattan', 'M445', 381, 396, 372, 73.7)]"
      ]
     },
     "execution_count": 11,
     "metadata": {},
     "output_type": "execute_result"
    }
   ],
   "source": [
    "%%sql\n",
    "\n",
    "-- select all columns but only 10 rows\n",
    "\n",
    "SELECT *\n",
    "FROM schools\n",
    "LIMIT 10;"
   ]
  },
  {
   "cell_type": "markdown",
   "id": "cb85f11d-d561-41df-b009-3cc0abeb545c",
   "metadata": {},
   "source": [
    "## **2. Finding missing values**\n",
    "It looks like the first school in our database had no data in the percent_tested column!\n",
    "\n",
    "Let's identify how many schools have missing data for this column, indicating schools that did not report the percentage of students tested.\n",
    "\n",
    "To understand whether this missing data problem is widespread in New York, we will also calculate the total number of schools in the database."
   ]
  },
  {
   "cell_type": "code",
   "execution_count": 22,
   "id": "7bcfd18f-938a-4084-92d2-ba1920d58b17",
   "metadata": {},
   "outputs": [
    {
     "name": "stdout",
     "output_type": "stream",
     "text": [
      " * sqlite:///schools.db\n",
      "   sqlite:///schoools.db\n",
      "Done.\n"
     ]
    },
    {
     "data": {
      "text/html": [
       "<table>\n",
       "    <thead>\n",
       "        <tr>\n",
       "            <th>num_testing_null</th>\n",
       "            <th>num_total_schools</th>\n",
       "            <th>percent_num_testing_null</th>\n",
       "        </tr>\n",
       "    </thead>\n",
       "    <tbody>\n",
       "        <tr>\n",
       "            <td>20</td>\n",
       "            <td>375</td>\n",
       "            <td>5</td>\n",
       "        </tr>\n",
       "    </tbody>\n",
       "</table>"
      ],
      "text/plain": [
       "[(20, 375, 5)]"
      ]
     },
     "execution_count": 22,
     "metadata": {},
     "output_type": "execute_result"
    }
   ],
   "source": [
    "%%sql \n",
    "\n",
    "-- find schools with percent_tested as null\n",
    "-- find the total number of schools in the database\n",
    "-- find the percentage of percent_tested as null against the total number of schools\n",
    "\n",
    "SELECT\n",
    "    COUNT(*) - COUNT(percent_tested) AS num_testing_null,\n",
    "    COUNT(*) AS num_total_schools,\n",
    "    ((COUNT(*) - COUNT(percent_tested)) * 100 / COUNT(*)) AS percent_num_testing_null\n",
    "FROM schools;"
   ]
  },
  {
   "cell_type": "markdown",
   "id": "88330087-9140-4890-9910-3cf945293317",
   "metadata": {},
   "source": [
    "## **3. Schools by building code**\n",
    "There are 20 schools with missing data for percent_tested, which only makes up 5% of all rows in the database.\n",
    "\n",
    "Now let's turn our attention to how many schools there are. When we displayed the first ten rows of the database, several had the same value in the building_code column, suggesting there are multiple schools based in the same location. Let's find out how many unique school locations exist in our database."
   ]
  },
  {
   "cell_type": "code",
   "execution_count": 26,
   "id": "6a4d4b5b-70b6-4c3d-8d53-f17c5c666853",
   "metadata": {},
   "outputs": [
    {
     "name": "stdout",
     "output_type": "stream",
     "text": [
      " * sqlite:///schools.db\n",
      "   sqlite:///schoools.db\n",
      "Done.\n"
     ]
    },
    {
     "data": {
      "text/html": [
       "<table>\n",
       "    <thead>\n",
       "        <tr>\n",
       "            <th>num_building_code</th>\n",
       "            <th>percent_unique_building_code</th>\n",
       "        </tr>\n",
       "    </thead>\n",
       "    <tbody>\n",
       "        <tr>\n",
       "            <td>233</td>\n",
       "            <td>62</td>\n",
       "        </tr>\n",
       "    </tbody>\n",
       "</table>"
      ],
      "text/plain": [
       "[(233, 62)]"
      ]
     },
     "execution_count": 26,
     "metadata": {},
     "output_type": "execute_result"
    }
   ],
   "source": [
    "%%sql\n",
    "\n",
    "-- count unique building_code value\n",
    "\n",
    "SELECT \n",
    "    COUNT(DISTINCT building_code) AS num_building_code,\n",
    "    COUNT(DISTINCT building_code) * 100 / COUNT(*) AS percent_unique_building_code\n",
    "FROM schools;"
   ]
  },
  {
   "cell_type": "markdown",
   "id": "02db5697-e004-4d80-95b6-deaee23ef1bd",
   "metadata": {},
   "source": [
    "## **4. Best schools for math**\n",
    "Out of 375 schools, only 233 (62%) have a unique building_code!\n",
    "\n",
    "Now let's start our analysis of school performance. As each school reports individually, we will treat them this way rather than grouping them by building_code.\n",
    "\n",
    "First, let's find all schools with an average math score of at least 80% (out of 800)."
   ]
  },
  {
   "cell_type": "code",
   "execution_count": 29,
   "id": "6b566b57-8a36-413c-b51d-1328c6d4aed3",
   "metadata": {},
   "outputs": [
    {
     "name": "stdout",
     "output_type": "stream",
     "text": [
      " * sqlite:///schools.db\n",
      "   sqlite:///schoools.db\n",
      "Done.\n"
     ]
    },
    {
     "data": {
      "text/html": [
       "<table>\n",
       "    <thead>\n",
       "        <tr>\n",
       "            <th>school_name</th>\n",
       "            <th>average_math</th>\n",
       "        </tr>\n",
       "    </thead>\n",
       "    <tbody>\n",
       "        <tr>\n",
       "            <td>Stuyvesant High School</td>\n",
       "            <td>754</td>\n",
       "        </tr>\n",
       "        <tr>\n",
       "            <td>Bronx High School of Science</td>\n",
       "            <td>714</td>\n",
       "        </tr>\n",
       "        <tr>\n",
       "            <td>Staten Island Technical High School</td>\n",
       "            <td>711</td>\n",
       "        </tr>\n",
       "        <tr>\n",
       "            <td>Queens High School for the Sciences at York College</td>\n",
       "            <td>701</td>\n",
       "        </tr>\n",
       "        <tr>\n",
       "            <td>High School for Mathematics, Science, and Engineering at City College</td>\n",
       "            <td>683</td>\n",
       "        </tr>\n",
       "        <tr>\n",
       "            <td>Brooklyn Technical High School</td>\n",
       "            <td>682</td>\n",
       "        </tr>\n",
       "        <tr>\n",
       "            <td>Townsend Harris High School</td>\n",
       "            <td>680</td>\n",
       "        </tr>\n",
       "        <tr>\n",
       "            <td>High School of American Studies at Lehman College</td>\n",
       "            <td>669</td>\n",
       "        </tr>\n",
       "        <tr>\n",
       "            <td>New Explorations into Science, Technology and Math High School</td>\n",
       "            <td>657</td>\n",
       "        </tr>\n",
       "        <tr>\n",
       "            <td>Eleanor Roosevelt High School</td>\n",
       "            <td>641</td>\n",
       "        </tr>\n",
       "    </tbody>\n",
       "</table>"
      ],
      "text/plain": [
       "[('Stuyvesant High School', 754),\n",
       " ('Bronx High School of Science', 714),\n",
       " ('Staten Island Technical High School', 711),\n",
       " ('Queens High School for the Sciences at York College', 701),\n",
       " ('High School for Mathematics, Science, and Engineering at City College', 683),\n",
       " ('Brooklyn Technical High School', 682),\n",
       " ('Townsend Harris High School', 680),\n",
       " ('High School of American Studies at Lehman College', 669),\n",
       " ('New Explorations into Science, Technology and Math High School', 657),\n",
       " ('Eleanor Roosevelt High School', 641)]"
      ]
     },
     "execution_count": 29,
     "metadata": {},
     "output_type": "execute_result"
    }
   ],
   "source": [
    "%%sql\n",
    "\n",
    "-- find out schools with average_math with at least 80% test score\n",
    "\n",
    "SELECT \n",
    "    school_name,\n",
    "    average_math\n",
    "FROM schools\n",
    "WHERE average_math >= 0.8 * 800\n",
    "ORDER BY average_math DESC;"
   ]
  },
  {
   "cell_type": "markdown",
   "id": "db14083c-22a7-4cc4-8bc1-01de6acfe7d9",
   "metadata": {},
   "source": [
    "## **5. Lowest reading score**\n",
    "Wow, there are only ten public schools in New York City with an average math score of at least 640!\n",
    "\n",
    "Now let's look at the other end of the spectrum and find the single lowest score for reading. We will only select the score, not the school, to avoid naming and shaming!"
   ]
  },
  {
   "cell_type": "code",
   "execution_count": 31,
   "id": "05a2aab8-8502-4372-9862-03303b10e9a1",
   "metadata": {},
   "outputs": [
    {
     "name": "stdout",
     "output_type": "stream",
     "text": [
      " * sqlite:///schools.db\n",
      "   sqlite:///schoools.db\n",
      "Done.\n"
     ]
    },
    {
     "data": {
      "text/html": [
       "<table>\n",
       "    <thead>\n",
       "        <tr>\n",
       "            <th>lowest_avg_reading</th>\n",
       "            <th>percentage_of_total_score</th>\n",
       "        </tr>\n",
       "    </thead>\n",
       "    <tbody>\n",
       "        <tr>\n",
       "            <td>302</td>\n",
       "            <td>37</td>\n",
       "        </tr>\n",
       "    </tbody>\n",
       "</table>"
      ],
      "text/plain": [
       "[(302, 37)]"
      ]
     },
     "execution_count": 31,
     "metadata": {},
     "output_type": "execute_result"
    }
   ],
   "source": [
    "%%sql\n",
    "\n",
    "-- find out the school with lowest average_reading score\n",
    "\n",
    "SELECT \n",
    "    MIN(average_reading) AS lowest_avg_reading,\n",
    "    MIN(average_reading) * 100 / 800 AS percentage_of_total_score\n",
    "FROM schools;"
   ]
  },
  {
   "cell_type": "markdown",
   "id": "138601b2-1edf-4169-adb4-556bd49666a7",
   "metadata": {},
   "source": [
    "## **6. Best writing school**\n",
    "The lowest average score for reading across schools in New York City is less than 40% of the total available points!\n",
    "\n",
    "Now let's find the school with the highest average writing score."
   ]
  },
  {
   "cell_type": "code",
   "execution_count": 32,
   "id": "32b4e3a1-1ead-4077-bf42-22c3e9b14921",
   "metadata": {},
   "outputs": [
    {
     "name": "stdout",
     "output_type": "stream",
     "text": [
      " * sqlite:///schools.db\n",
      "   sqlite:///schoools.db\n",
      "Done.\n"
     ]
    },
    {
     "data": {
      "text/html": [
       "<table>\n",
       "    <thead>\n",
       "        <tr>\n",
       "            <th>school_name</th>\n",
       "            <th>highest_avg_writing</th>\n",
       "        </tr>\n",
       "    </thead>\n",
       "    <tbody>\n",
       "        <tr>\n",
       "            <td>Stuyvesant High School</td>\n",
       "            <td>693</td>\n",
       "        </tr>\n",
       "    </tbody>\n",
       "</table>"
      ],
      "text/plain": [
       "[('Stuyvesant High School', 693)]"
      ]
     },
     "execution_count": 32,
     "metadata": {},
     "output_type": "execute_result"
    }
   ],
   "source": [
    "%%sql\n",
    "\n",
    "-- find the school with highest average_writing\n",
    "\n",
    "SELECT \n",
    "    school_name,\n",
    "    MAX(average_writing) AS highest_avg_writing\n",
    "FROM schools;"
   ]
  },
  {
   "cell_type": "markdown",
   "id": "141820a4-8042-488c-9fb2-773e7025f0a0",
   "metadata": {},
   "source": [
    "## **7. Top 10 schools**\n",
    "An average writing score of 693 is pretty impressive!\n",
    "\n",
    "This top writing score was at the same school that got the top math score, Stuyvesant High School. Stuyvesant is widely known as a perennial top school in New York.\n",
    "\n",
    "What other schools are also excellent across the board? Let's look at scores across reading, writing, and math to find out."
   ]
  },
  {
   "cell_type": "code",
   "execution_count": 39,
   "id": "dccfb1e7-d5e4-4922-8857-b0aa2d6f8575",
   "metadata": {},
   "outputs": [
    {
     "name": "stdout",
     "output_type": "stream",
     "text": [
      " * sqlite:///schools.db\n",
      "   sqlite:///schoools.db\n",
      "Done.\n"
     ]
    },
    {
     "data": {
      "text/html": [
       "<table>\n",
       "    <thead>\n",
       "        <tr>\n",
       "            <th>school_name</th>\n",
       "            <th>avg_total_score</th>\n",
       "        </tr>\n",
       "    </thead>\n",
       "    <tbody>\n",
       "        <tr>\n",
       "            <td>Stuyvesant High School</td>\n",
       "            <td>2144</td>\n",
       "        </tr>\n",
       "        <tr>\n",
       "            <td>Staten Island Technical High School</td>\n",
       "            <td>2041</td>\n",
       "        </tr>\n",
       "        <tr>\n",
       "            <td>Bronx High School of Science</td>\n",
       "            <td>2041</td>\n",
       "        </tr>\n",
       "        <tr>\n",
       "            <td>High School of American Studies at Lehman College</td>\n",
       "            <td>2013</td>\n",
       "        </tr>\n",
       "        <tr>\n",
       "            <td>Townsend Harris High School</td>\n",
       "            <td>1981</td>\n",
       "        </tr>\n",
       "        <tr>\n",
       "            <td>Queens High School for the Sciences at York College</td>\n",
       "            <td>1947</td>\n",
       "        </tr>\n",
       "        <tr>\n",
       "            <td>Bard High School Early College</td>\n",
       "            <td>1914</td>\n",
       "        </tr>\n",
       "        <tr>\n",
       "            <td>Brooklyn Technical High School</td>\n",
       "            <td>1896</td>\n",
       "        </tr>\n",
       "        <tr>\n",
       "            <td>Eleanor Roosevelt High School</td>\n",
       "            <td>1889</td>\n",
       "        </tr>\n",
       "        <tr>\n",
       "            <td>High School for Mathematics, Science, and Engineering at City College</td>\n",
       "            <td>1889</td>\n",
       "        </tr>\n",
       "    </tbody>\n",
       "</table>"
      ],
      "text/plain": [
       "[('Stuyvesant High School', 2144),\n",
       " ('Staten Island Technical High School', 2041),\n",
       " ('Bronx High School of Science', 2041),\n",
       " ('High School of American Studies at Lehman College', 2013),\n",
       " ('Townsend Harris High School', 1981),\n",
       " ('Queens High School for the Sciences at York College', 1947),\n",
       " ('Bard High School Early College', 1914),\n",
       " ('Brooklyn Technical High School', 1896),\n",
       " ('Eleanor Roosevelt High School', 1889),\n",
       " ('High School for Mathematics, Science, and Engineering at City College', 1889)]"
      ]
     },
     "execution_count": 39,
     "metadata": {},
     "output_type": "execute_result"
    }
   ],
   "source": [
    "%%sql\n",
    "\n",
    "-- find the schools with top average total SAT score\n",
    "\n",
    "SELECT\n",
    "    school_name,\n",
    "    average_math + average_writing + average_reading AS avg_total_score\n",
    "FROM schools\n",
    "ORDER BY avg_total_score DESC\n",
    "LIMIT 10;"
   ]
  },
  {
   "cell_type": "markdown",
   "id": "6b2c33e7-5c79-448d-ac30-af0e658b83ab",
   "metadata": {},
   "source": [
    "## **8. Ranking boroughs**\n",
    "There are four schools with average SAT scores of over 2000! Now let's analyze performance by New York City borough.\n",
    "\n",
    "We will build a query that calculates the number of schools and the average SAT score per borough!"
   ]
  },
  {
   "cell_type": "code",
   "execution_count": 40,
   "id": "e165408c-8e49-4779-b4ce-f584a7cc5d56",
   "metadata": {},
   "outputs": [
    {
     "name": "stdout",
     "output_type": "stream",
     "text": [
      " * sqlite:///schools.db\n",
      "   sqlite:///schoools.db\n",
      "Done.\n"
     ]
    },
    {
     "data": {
      "text/html": [
       "<table>\n",
       "    <thead>\n",
       "        <tr>\n",
       "            <th>borough</th>\n",
       "            <th>num_schools</th>\n",
       "            <th>avg_total_score</th>\n",
       "        </tr>\n",
       "    </thead>\n",
       "    <tbody>\n",
       "        <tr>\n",
       "            <td>Staten Island</td>\n",
       "            <td>10</td>\n",
       "            <td>1439</td>\n",
       "        </tr>\n",
       "        <tr>\n",
       "            <td>Queens</td>\n",
       "            <td>69</td>\n",
       "            <td>1345</td>\n",
       "        </tr>\n",
       "        <tr>\n",
       "            <td>Manhattan</td>\n",
       "            <td>89</td>\n",
       "            <td>1340</td>\n",
       "        </tr>\n",
       "        <tr>\n",
       "            <td>Brooklyn</td>\n",
       "            <td>109</td>\n",
       "            <td>1230</td>\n",
       "        </tr>\n",
       "        <tr>\n",
       "            <td>Bronx</td>\n",
       "            <td>98</td>\n",
       "            <td>1202</td>\n",
       "        </tr>\n",
       "    </tbody>\n",
       "</table>"
      ],
      "text/plain": [
       "[('Staten Island', 10, 1439),\n",
       " ('Queens', 69, 1345),\n",
       " ('Manhattan', 89, 1340),\n",
       " ('Brooklyn', 109, 1230),\n",
       " ('Bronx', 98, 1202)]"
      ]
     },
     "execution_count": 40,
     "metadata": {},
     "output_type": "execute_result"
    }
   ],
   "source": [
    "%%sql\n",
    "\n",
    "-- find the number of schools and average SAT score by borough\n",
    "\n",
    "SELECT\n",
    "    borough,\n",
    "    COUNT(*) AS num_schools,\n",
    "    SUM(average_math + average_writing + average_reading) / COUNT(*) AS avg_total_score\n",
    "FROM schools\n",
    "GROUP BY borough\n",
    "ORDER BY avg_total_score DESC;"
   ]
  },
  {
   "cell_type": "markdown",
   "id": "a059964f-9e4e-4f38-a442-f6517be28266",
   "metadata": {},
   "source": [
    "## **9. Brooklyn numbers**\n",
    "It appears that schools in Staten Island, on average, produce higher scores across all three categories. However, there are only 10 schools in Staten Island, compared to an average of 91 schools in the other four boroughs!\n",
    "\n",
    "For our final query of the database, let's focus on Brooklyn, which has 109 schools. We wish to find the top five schools for math performance."
   ]
  },
  {
   "cell_type": "code",
   "execution_count": 41,
   "id": "e83d2d1c-c460-44d9-be74-ad4827800f37",
   "metadata": {},
   "outputs": [
    {
     "name": "stdout",
     "output_type": "stream",
     "text": [
      " * sqlite:///schools.db\n",
      "   sqlite:///schoools.db\n",
      "Done.\n"
     ]
    },
    {
     "data": {
      "text/html": [
       "<table>\n",
       "    <thead>\n",
       "        <tr>\n",
       "            <th>school_name</th>\n",
       "            <th>average_math</th>\n",
       "        </tr>\n",
       "    </thead>\n",
       "    <tbody>\n",
       "        <tr>\n",
       "            <td>Brooklyn Technical High School</td>\n",
       "            <td>682</td>\n",
       "        </tr>\n",
       "        <tr>\n",
       "            <td>Brooklyn Latin School</td>\n",
       "            <td>625</td>\n",
       "        </tr>\n",
       "        <tr>\n",
       "            <td>Leon M. Goldstein High School for the Sciences</td>\n",
       "            <td>563</td>\n",
       "        </tr>\n",
       "        <tr>\n",
       "            <td>Millennium Brooklyn High School</td>\n",
       "            <td>553</td>\n",
       "        </tr>\n",
       "        <tr>\n",
       "            <td>Midwood High School</td>\n",
       "            <td>550</td>\n",
       "        </tr>\n",
       "    </tbody>\n",
       "</table>"
      ],
      "text/plain": [
       "[('Brooklyn Technical High School', 682),\n",
       " ('Brooklyn Latin School', 625),\n",
       " ('Leon M. Goldstein High School for the Sciences', 563),\n",
       " ('Millennium Brooklyn High School', 553),\n",
       " ('Midwood High School', 550)]"
      ]
     },
     "execution_count": 41,
     "metadata": {},
     "output_type": "execute_result"
    }
   ],
   "source": [
    "%%sql\n",
    "\n",
    "-- find the top 5 Brooklyn schools with highest average_math\n",
    "\n",
    "SELECT\n",
    "    school_name,\n",
    "    average_math\n",
    "FROM schools\n",
    "WHERE borough = 'Brooklyn'\n",
    "ORDER BY average_math DESC\n",
    "LIMIT 5;"
   ]
  },
  {
   "cell_type": "code",
   "execution_count": null,
   "id": "3b240e8e-22f3-4720-96d4-5535b0982c25",
   "metadata": {},
   "outputs": [],
   "source": []
  }
 ],
 "metadata": {
  "kernelspec": {
   "display_name": "Python 3 (ipykernel)",
   "language": "python",
   "name": "python3"
  },
  "language_info": {
   "codemirror_mode": {
    "name": "ipython",
    "version": 3
   },
   "file_extension": ".py",
   "mimetype": "text/x-python",
   "name": "python",
   "nbconvert_exporter": "python",
   "pygments_lexer": "ipython3",
   "version": "3.9.13"
  }
 },
 "nbformat": 4,
 "nbformat_minor": 5
}
